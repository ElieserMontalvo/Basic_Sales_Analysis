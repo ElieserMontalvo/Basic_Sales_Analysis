{
 "cells": [
  {
   "cell_type": "code",
   "execution_count": 80,
   "metadata": {},
   "outputs": [],
   "source": [
    "import pandas as pd\n",
    "\n",
    "import matplotlib.pyplot as plt\n",
    "\n",
    "import matplotlib.colors as mcolor\n",
    "\n",
    "import seaborn as sns"
   ]
  },
  {
   "cell_type": "code",
   "execution_count": 81,
   "metadata": {},
   "outputs": [],
   "source": [
    "data = pd.read_csv('sales_data.csv')"
   ]
  },
  {
   "cell_type": "code",
   "execution_count": 82,
   "metadata": {},
   "outputs": [
    {
     "name": "stdout",
     "output_type": "stream",
     "text": [
      "         Date Region Salesperson      Product  Units Sold  Unit Price  \\\n",
      "0  2023-01-05  North       Alice  Electronics          10       120.5   \n",
      "1  2023-01-07   East         Bob    Furniture           5       300.0   \n",
      "2  2023-01-10   West     Charlie     Clothing          20        25.0   \n",
      "3  2023-02-12  North       Alice  Electronics           7       120.5   \n",
      "4  2023-02-15  South       Diana  Electronics           8       120.5   \n",
      "\n",
      "   Total Sale  \n",
      "0      1205.0  \n",
      "1      1500.0  \n",
      "2       500.0  \n",
      "3       843.5  \n",
      "4       964.0  \n",
      "<class 'pandas.core.frame.DataFrame'>\n",
      "RangeIndex: 16 entries, 0 to 15\n",
      "Data columns (total 7 columns):\n",
      " #   Column       Non-Null Count  Dtype  \n",
      "---  ------       --------------  -----  \n",
      " 0   Date         16 non-null     object \n",
      " 1   Region       16 non-null     object \n",
      " 2   Salesperson  16 non-null     object \n",
      " 3   Product      16 non-null     object \n",
      " 4   Units Sold   16 non-null     int64  \n",
      " 5   Unit Price   16 non-null     float64\n",
      " 6   Total Sale   16 non-null     float64\n",
      "dtypes: float64(2), int64(1), object(4)\n",
      "memory usage: 1.0+ KB\n",
      "None\n"
     ]
    }
   ],
   "source": [
    "print(data.head())\n",
    "print(data.info())"
   ]
  },
  {
   "cell_type": "code",
   "execution_count": 83,
   "metadata": {},
   "outputs": [
    {
     "name": "stdout",
     "output_type": "stream",
     "text": [
      "Date           0\n",
      "Region         0\n",
      "Salesperson    0\n",
      "Product        0\n",
      "Units Sold     0\n",
      "Unit Price     0\n",
      "Total Sale     0\n",
      "dtype: int64\n"
     ]
    }
   ],
   "source": [
    "print(data.isnull().sum())"
   ]
  },
  {
   "cell_type": "code",
   "execution_count": 84,
   "metadata": {},
   "outputs": [
    {
     "data": {
      "text/html": [
       "<div>\n",
       "<style scoped>\n",
       "    .dataframe tbody tr th:only-of-type {\n",
       "        vertical-align: middle;\n",
       "    }\n",
       "\n",
       "    .dataframe tbody tr th {\n",
       "        vertical-align: top;\n",
       "    }\n",
       "\n",
       "    .dataframe thead th {\n",
       "        text-align: right;\n",
       "    }\n",
       "</style>\n",
       "<table border=\"1\" class=\"dataframe\">\n",
       "  <thead>\n",
       "    <tr style=\"text-align: right;\">\n",
       "      <th></th>\n",
       "      <th>Date</th>\n",
       "      <th>Region</th>\n",
       "      <th>Salesperson</th>\n",
       "      <th>Product</th>\n",
       "      <th>Units Sold</th>\n",
       "      <th>Unit Price</th>\n",
       "      <th>Total Sale</th>\n",
       "    </tr>\n",
       "  </thead>\n",
       "  <tbody>\n",
       "    <tr>\n",
       "      <th>0</th>\n",
       "      <td>2023-01-05</td>\n",
       "      <td>North</td>\n",
       "      <td>Alice</td>\n",
       "      <td>Electronics</td>\n",
       "      <td>10</td>\n",
       "      <td>120.5</td>\n",
       "      <td>1205.0</td>\n",
       "    </tr>\n",
       "    <tr>\n",
       "      <th>1</th>\n",
       "      <td>2023-01-07</td>\n",
       "      <td>East</td>\n",
       "      <td>Bob</td>\n",
       "      <td>Furniture</td>\n",
       "      <td>5</td>\n",
       "      <td>300.0</td>\n",
       "      <td>1500.0</td>\n",
       "    </tr>\n",
       "    <tr>\n",
       "      <th>2</th>\n",
       "      <td>2023-01-10</td>\n",
       "      <td>West</td>\n",
       "      <td>Charlie</td>\n",
       "      <td>Clothing</td>\n",
       "      <td>20</td>\n",
       "      <td>25.0</td>\n",
       "      <td>500.0</td>\n",
       "    </tr>\n",
       "    <tr>\n",
       "      <th>3</th>\n",
       "      <td>2023-02-12</td>\n",
       "      <td>North</td>\n",
       "      <td>Alice</td>\n",
       "      <td>Electronics</td>\n",
       "      <td>7</td>\n",
       "      <td>120.5</td>\n",
       "      <td>843.5</td>\n",
       "    </tr>\n",
       "    <tr>\n",
       "      <th>4</th>\n",
       "      <td>2023-02-15</td>\n",
       "      <td>South</td>\n",
       "      <td>Diana</td>\n",
       "      <td>Electronics</td>\n",
       "      <td>8</td>\n",
       "      <td>120.5</td>\n",
       "      <td>964.0</td>\n",
       "    </tr>\n",
       "    <tr>\n",
       "      <th>5</th>\n",
       "      <td>2023-02-18</td>\n",
       "      <td>East</td>\n",
       "      <td>Bob</td>\n",
       "      <td>Furniture</td>\n",
       "      <td>3</td>\n",
       "      <td>350.0</td>\n",
       "      <td>1050.0</td>\n",
       "    </tr>\n",
       "    <tr>\n",
       "      <th>6</th>\n",
       "      <td>2023-03-10</td>\n",
       "      <td>West</td>\n",
       "      <td>Charlie</td>\n",
       "      <td>Clothing</td>\n",
       "      <td>25</td>\n",
       "      <td>22.5</td>\n",
       "      <td>562.5</td>\n",
       "    </tr>\n",
       "    <tr>\n",
       "      <th>7</th>\n",
       "      <td>2023-03-20</td>\n",
       "      <td>North</td>\n",
       "      <td>Eve</td>\n",
       "      <td>Furniture</td>\n",
       "      <td>4</td>\n",
       "      <td>275.0</td>\n",
       "      <td>1100.0</td>\n",
       "    </tr>\n",
       "    <tr>\n",
       "      <th>8</th>\n",
       "      <td>2023-04-02</td>\n",
       "      <td>South</td>\n",
       "      <td>Alice</td>\n",
       "      <td>Electronics</td>\n",
       "      <td>9</td>\n",
       "      <td>125.0</td>\n",
       "      <td>1125.0</td>\n",
       "    </tr>\n",
       "    <tr>\n",
       "      <th>9</th>\n",
       "      <td>2023-04-12</td>\n",
       "      <td>East</td>\n",
       "      <td>Diana</td>\n",
       "      <td>Clothing</td>\n",
       "      <td>15</td>\n",
       "      <td>35.0</td>\n",
       "      <td>525.0</td>\n",
       "    </tr>\n",
       "  </tbody>\n",
       "</table>\n",
       "</div>"
      ],
      "text/plain": [
       "         Date Region Salesperson      Product  Units Sold  Unit Price  \\\n",
       "0  2023-01-05  North       Alice  Electronics          10       120.5   \n",
       "1  2023-01-07   East         Bob    Furniture           5       300.0   \n",
       "2  2023-01-10   West     Charlie     Clothing          20        25.0   \n",
       "3  2023-02-12  North       Alice  Electronics           7       120.5   \n",
       "4  2023-02-15  South       Diana  Electronics           8       120.5   \n",
       "5  2023-02-18   East         Bob    Furniture           3       350.0   \n",
       "6  2023-03-10   West     Charlie     Clothing          25        22.5   \n",
       "7  2023-03-20  North         Eve    Furniture           4       275.0   \n",
       "8  2023-04-02  South       Alice  Electronics           9       125.0   \n",
       "9  2023-04-12   East       Diana     Clothing          15        35.0   \n",
       "\n",
       "   Total Sale  \n",
       "0      1205.0  \n",
       "1      1500.0  \n",
       "2       500.0  \n",
       "3       843.5  \n",
       "4       964.0  \n",
       "5      1050.0  \n",
       "6       562.5  \n",
       "7      1100.0  \n",
       "8      1125.0  \n",
       "9       525.0  "
      ]
     },
     "execution_count": 84,
     "metadata": {},
     "output_type": "execute_result"
    }
   ],
   "source": [
    "data.head(10)"
   ]
  },
  {
   "cell_type": "code",
   "execution_count": 85,
   "metadata": {},
   "outputs": [
    {
     "name": "stdout",
     "output_type": "stream",
     "text": [
      "Product\n",
      "Clothing       2543.5\n",
      "Electronics    6297.5\n",
      "Furniture      8680.0\n",
      "Name: Total Sale, dtype: float64\n"
     ]
    }
   ],
   "source": [
    "total_sales_per_product = data.groupby('Product')['Total Sale'].sum()\n",
    "print(total_sales_per_product)"
   ]
  },
  {
   "cell_type": "code",
   "execution_count": 86,
   "metadata": {},
   "outputs": [
    {
     "name": "stdout",
     "output_type": "stream",
     "text": [
      "Region\n",
      "East     3635.0\n",
      "North    3544.5\n",
      "South    5889.0\n",
      "West     4452.5\n",
      "Name: Total Sale, dtype: float64\n"
     ]
    }
   ],
   "source": [
    "total_sales_per_region = data.groupby('Region')['Total Sale'].sum()\n",
    "\n",
    "print(total_sales_per_region)"
   ]
  },
  {
   "cell_type": "code",
   "execution_count": 87,
   "metadata": {},
   "outputs": [
    {
     "name": "stdout",
     "output_type": "stream",
     "text": [
      "Salesperson\n",
      "Bob      4506.0\n",
      "Diana    4279.0\n",
      "Alice    3733.5\n",
      "Name: Total Sale, dtype: float64\n"
     ]
    }
   ],
   "source": [
    "top_3_sales_personel = data.groupby('Salesperson')['Total Sale'].sum().sort_values(ascending=False).head(3)\n",
    "\n",
    "print(top_3_sales_personel)"
   ]
  },
  {
   "cell_type": "code",
   "execution_count": 89,
   "metadata": {},
   "outputs": [
    {
     "data": {
      "image/png": "[encoded data removed]",
      "text/plain": [
       "<Figure size 640x480 with 1 Axes>"
      ]
     },
     "metadata": {},
     "output_type": "display_data"
    }
   ],
   "source": [
    "total_sales_per_product.plot(kind='barh', color='Green', edgecolor='black')\n",
    "plt.title('Total Sales Per Product')\n",
    "plt.xlabel('Sales ($)')\n",
    "plt.ylabel('')\n",
    "sns.despine()\n",
    "plt.show()"
   ]
  },
  {
   "cell_type": "code",
   "execution_count": 100,
   "metadata": {},
   "outputs": [
    {
     "data": {
      "image/png": "[encoded data removed]",
      "text/plain": [
       "<Figure size 640x480 with 1 Axes>"
      ]
     },
     "metadata": {},
     "output_type": "display_data"
    }
   ],
   "source": [
    "total_sales_per_region.plot(kind='pie', autopct='%1.1f%%')\n",
    "plt.title('Sales Distribution Per Region')\n",
    "plt.ylabel('')\n",
    "plt.show()"
   ]
  },
  {
   "cell_type": "code",
   "execution_count": 101,
   "metadata": {},
   "outputs": [
    {
     "data": {
      "text/html": [
       "<div>\n",
       "<style scoped>\n",
       "    .dataframe tbody tr th:only-of-type {\n",
       "        vertical-align: middle;\n",
       "    }\n",
       "\n",
       "    .dataframe tbody tr th {\n",
       "        vertical-align: top;\n",
       "    }\n",
       "\n",
       "    .dataframe thead th {\n",
       "        text-align: right;\n",
       "    }\n",
       "</style>\n",
       "<table border=\"1\" class=\"dataframe\">\n",
       "  <thead>\n",
       "    <tr style=\"text-align: right;\">\n",
       "      <th></th>\n",
       "      <th>Date</th>\n",
       "      <th>Region</th>\n",
       "      <th>Salesperson</th>\n",
       "      <th>Product</th>\n",
       "      <th>Units Sold</th>\n",
       "      <th>Unit Price</th>\n",
       "      <th>Total Sale</th>\n",
       "    </tr>\n",
       "  </thead>\n",
       "  <tbody>\n",
       "    <tr>\n",
       "      <th>0</th>\n",
       "      <td>2023-01-05</td>\n",
       "      <td>North</td>\n",
       "      <td>Alice</td>\n",
       "      <td>Electronics</td>\n",
       "      <td>10</td>\n",
       "      <td>120.5</td>\n",
       "      <td>1205.0</td>\n",
       "    </tr>\n",
       "    <tr>\n",
       "      <th>1</th>\n",
       "      <td>2023-01-07</td>\n",
       "      <td>East</td>\n",
       "      <td>Bob</td>\n",
       "      <td>Furniture</td>\n",
       "      <td>5</td>\n",
       "      <td>300.0</td>\n",
       "      <td>1500.0</td>\n",
       "    </tr>\n",
       "    <tr>\n",
       "      <th>2</th>\n",
       "      <td>2023-01-10</td>\n",
       "      <td>West</td>\n",
       "      <td>Charlie</td>\n",
       "      <td>Clothing</td>\n",
       "      <td>20</td>\n",
       "      <td>25.0</td>\n",
       "      <td>500.0</td>\n",
       "    </tr>\n",
       "    <tr>\n",
       "      <th>3</th>\n",
       "      <td>2023-02-12</td>\n",
       "      <td>North</td>\n",
       "      <td>Alice</td>\n",
       "      <td>Electronics</td>\n",
       "      <td>7</td>\n",
       "      <td>120.5</td>\n",
       "      <td>843.5</td>\n",
       "    </tr>\n",
       "    <tr>\n",
       "      <th>4</th>\n",
       "      <td>2023-02-15</td>\n",
       "      <td>South</td>\n",
       "      <td>Diana</td>\n",
       "      <td>Electronics</td>\n",
       "      <td>8</td>\n",
       "      <td>120.5</td>\n",
       "      <td>964.0</td>\n",
       "    </tr>\n",
       "    <tr>\n",
       "      <th>5</th>\n",
       "      <td>2023-02-18</td>\n",
       "      <td>East</td>\n",
       "      <td>Bob</td>\n",
       "      <td>Furniture</td>\n",
       "      <td>3</td>\n",
       "      <td>350.0</td>\n",
       "      <td>1050.0</td>\n",
       "    </tr>\n",
       "    <tr>\n",
       "      <th>6</th>\n",
       "      <td>2023-03-10</td>\n",
       "      <td>West</td>\n",
       "      <td>Charlie</td>\n",
       "      <td>Clothing</td>\n",
       "      <td>25</td>\n",
       "      <td>22.5</td>\n",
       "      <td>562.5</td>\n",
       "    </tr>\n",
       "    <tr>\n",
       "      <th>7</th>\n",
       "      <td>2023-03-20</td>\n",
       "      <td>North</td>\n",
       "      <td>Eve</td>\n",
       "      <td>Furniture</td>\n",
       "      <td>4</td>\n",
       "      <td>275.0</td>\n",
       "      <td>1100.0</td>\n",
       "    </tr>\n",
       "    <tr>\n",
       "      <th>8</th>\n",
       "      <td>2023-04-02</td>\n",
       "      <td>South</td>\n",
       "      <td>Alice</td>\n",
       "      <td>Electronics</td>\n",
       "      <td>9</td>\n",
       "      <td>125.0</td>\n",
       "      <td>1125.0</td>\n",
       "    </tr>\n",
       "    <tr>\n",
       "      <th>9</th>\n",
       "      <td>2023-04-12</td>\n",
       "      <td>East</td>\n",
       "      <td>Diana</td>\n",
       "      <td>Clothing</td>\n",
       "      <td>15</td>\n",
       "      <td>35.0</td>\n",
       "      <td>525.0</td>\n",
       "    </tr>\n",
       "    <tr>\n",
       "      <th>10</th>\n",
       "      <td>2023-04-18</td>\n",
       "      <td>West</td>\n",
       "      <td>Charlie</td>\n",
       "      <td>Electronics</td>\n",
       "      <td>6</td>\n",
       "      <td>100.0</td>\n",
       "      <td>600.0</td>\n",
       "    </tr>\n",
       "    <tr>\n",
       "      <th>11</th>\n",
       "      <td>2023-05-01</td>\n",
       "      <td>North</td>\n",
       "      <td>Bob</td>\n",
       "      <td>Clothing</td>\n",
       "      <td>18</td>\n",
       "      <td>22.0</td>\n",
       "      <td>396.0</td>\n",
       "    </tr>\n",
       "    <tr>\n",
       "      <th>12</th>\n",
       "      <td>2023-05-10</td>\n",
       "      <td>South</td>\n",
       "      <td>Eve</td>\n",
       "      <td>Furniture</td>\n",
       "      <td>7</td>\n",
       "      <td>320.0</td>\n",
       "      <td>2240.0</td>\n",
       "    </tr>\n",
       "    <tr>\n",
       "      <th>13</th>\n",
       "      <td>2023-06-03</td>\n",
       "      <td>East</td>\n",
       "      <td>Alice</td>\n",
       "      <td>Clothing</td>\n",
       "      <td>14</td>\n",
       "      <td>40.0</td>\n",
       "      <td>560.0</td>\n",
       "    </tr>\n",
       "    <tr>\n",
       "      <th>14</th>\n",
       "      <td>2023-06-10</td>\n",
       "      <td>South</td>\n",
       "      <td>Bob</td>\n",
       "      <td>Electronics</td>\n",
       "      <td>12</td>\n",
       "      <td>130.0</td>\n",
       "      <td>1560.0</td>\n",
       "    </tr>\n",
       "    <tr>\n",
       "      <th>15</th>\n",
       "      <td>2023-06-18</td>\n",
       "      <td>West</td>\n",
       "      <td>Diana</td>\n",
       "      <td>Furniture</td>\n",
       "      <td>9</td>\n",
       "      <td>310.0</td>\n",
       "      <td>2790.0</td>\n",
       "    </tr>\n",
       "  </tbody>\n",
       "</table>\n",
       "</div>"
      ],
      "text/plain": [
       "          Date Region Salesperson      Product  Units Sold  Unit Price  \\\n",
       "0   2023-01-05  North       Alice  Electronics          10       120.5   \n",
       "1   2023-01-07   East         Bob    Furniture           5       300.0   \n",
       "2   2023-01-10   West     Charlie     Clothing          20        25.0   \n",
       "3   2023-02-12  North       Alice  Electronics           7       120.5   \n",
       "4   2023-02-15  South       Diana  Electronics           8       120.5   \n",
       "5   2023-02-18   East         Bob    Furniture           3       350.0   \n",
       "6   2023-03-10   West     Charlie     Clothing          25        22.5   \n",
       "7   2023-03-20  North         Eve    Furniture           4       275.0   \n",
       "8   2023-04-02  South       Alice  Electronics           9       125.0   \n",
       "9   2023-04-12   East       Diana     Clothing          15        35.0   \n",
       "10  2023-04-18   West     Charlie  Electronics           6       100.0   \n",
       "11  2023-05-01  North         Bob     Clothing          18        22.0   \n",
       "12  2023-05-10  South         Eve    Furniture           7       320.0   \n",
       "13  2023-06-03   East       Alice     Clothing          14        40.0   \n",
       "14  2023-06-10  South         Bob  Electronics          12       130.0   \n",
       "15  2023-06-18   West       Diana    Furniture           9       310.0   \n",
       "\n",
       "    Total Sale  \n",
       "0       1205.0  \n",
       "1       1500.0  \n",
       "2        500.0  \n",
       "3        843.5  \n",
       "4        964.0  \n",
       "5       1050.0  \n",
       "6        562.5  \n",
       "7       1100.0  \n",
       "8       1125.0  \n",
       "9        525.0  \n",
       "10       600.0  \n",
       "11       396.0  \n",
       "12      2240.0  \n",
       "13       560.0  \n",
       "14      1560.0  \n",
       "15      2790.0  "
      ]
     },
     "execution_count": 101,
     "metadata": {},
     "output_type": "execute_result"
    }
   ],
   "source": [
    "data"
   ]
  },
  {
   "cell_type": "code",
   "execution_count": 102,
   "metadata": {},
   "outputs": [],
   "source": [
    "data['Date'] = pd.to_datetime(data['Date'])\n",
    "\n",
    "data['Month'] = data['Date'].dt.to_period('M')\n",
    "\n",
    "monthly_sales = data.groupby('Month')['Total Sale'].sum()"
   ]
  },
  {
   "cell_type": "code",
   "execution_count": 124,
   "metadata": {},
   "outputs": [
    {
     "data": {
      "image/png": "[encoded data removed]",
      "text/plain": [
       "<Figure size 640x480 with 1 Axes>"
      ]
     },
     "metadata": {},
     "output_type": "display_data"
    },
    {
     "data": {
      "text/plain": [
       "<Figure size 640x480 with 0 Axes>"
      ]
     },
     "metadata": {},
     "output_type": "display_data"
    }
   ],
   "source": [
    "monthly_sales.plot(kind='line')\n",
    "plt.ylim(1000, 5500)\n",
    "plt.title('Total Sales Per Month')\n",
    "plt.ylabel('Sales ($)')\n",
    "plt.xlabel('')\n",
    "plt.show()"
   ]
  }
 ],
 "metadata": {
  "kernelspec": {
   "display_name": "Python 3",
   "language": "python",
   "name": "python3"
  },
  "language_info": {
   "codemirror_mode": {
    "name": "ipython",
    "version": 3
   },
   "file_extension": ".py",
   "mimetype": "text/x-python",
   "name": "python",
   "nbconvert_exporter": "python",
   "pygments_lexer": "ipython3",
   "version": "3.9.6"
  }
 },
 "nbformat": 4,
 "nbformat_minor": 2
}
